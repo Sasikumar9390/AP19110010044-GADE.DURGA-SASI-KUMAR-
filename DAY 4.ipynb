{
 "cells": [
  {
   "cell_type": "markdown",
   "id": "1b207dc5",
   "metadata": {},
   "source": [
    "# Task 3\n",
    "\n",
    " - Take input from the user\n",
    " - Check the length of the string even or odd\n",
    " - If the string length is odd access one middle character\n",
    " - If the string length is even access two middle characters"
   ]
  },
  {
   "cell_type": "markdown",
   "id": "76023f45",
   "metadata": {},
   "source": [
    "### Odd length of string"
   ]
  },
  {
   "cell_type": "code",
   "execution_count": 1,
   "id": "cc0d67c3",
   "metadata": {},
   "outputs": [
    {
     "name": "stdout",
     "output_type": "stream",
     "text": [
      "Enter the string: good night\n",
      "ni\n"
     ]
    }
   ],
   "source": [
    "string = input(\"Enter the string: \")\n",
    "middle = len(string)//2\n",
    "if len(string)%2==0:\n",
    "    print(string[middle:middle+2])\n",
    "else:\n",
    "    print(string[middle])"
   ]
  },
  {
   "cell_type": "markdown",
   "id": "0cc16f79",
   "metadata": {},
   "source": [
    "\n",
    " ###  Even length of string"
   ]
  },
  {
   "cell_type": "code",
   "execution_count": 2,
   "id": "5d0d3ec5",
   "metadata": {},
   "outputs": [
    {
     "name": "stdout",
     "output_type": "stream",
     "text": [
      "Enter the string: sasi\n",
      "si\n"
     ]
    }
   ],
   "source": [
    "string = input(\"Enter the string: \")\n",
    "middle = len(string)//2\n",
    "if len(string)%2==0:\n",
    "    print(string[middle:middle+2])\n",
    "else:\n",
    "    print(string[middle])"
   ]
  }
 ],
 "metadata": {
  "kernelspec": {
   "display_name": "Python 3",
   "language": "python",
   "name": "python3"
  },
  "language_info": {
   "codemirror_mode": {
    "name": "ipython",
    "version": 3
   },
   "file_extension": ".py",
   "mimetype": "text/x-python",
   "name": "python",
   "nbconvert_exporter": "python",
   "pygments_lexer": "ipython3",
   "version": "3.8.8"
  }
 },
 "nbformat": 4,
 "nbformat_minor": 5
}
