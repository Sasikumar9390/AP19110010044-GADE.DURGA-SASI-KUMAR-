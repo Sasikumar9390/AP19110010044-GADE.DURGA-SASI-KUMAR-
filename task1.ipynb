{
 "cells": [
  {
   "cell_type": "markdown",
   "id": "42a4db51",
   "metadata": {},
   "source": [
    "\n",
    " ### Task:\n",
    " \n"
   ]
  },
  {
   "cell_type": "markdown",
   "id": "d094219e",
   "metadata": {},
   "source": [
    " ###      Write a program to check wheather the user eligible for vote or not?"
   ]
  },
  {
   "cell_type": "code",
   "execution_count": 1,
   "id": "3410ab5e",
   "metadata": {},
   "outputs": [
    {
     "name": "stdout",
     "output_type": "stream",
     "text": [
      "Enter your age 20\n",
      "You're eligible to vote!\n"
     ]
    }
   ],
   "source": [
    "age = int(input(\"Enter your age \"))\n",
    "if age>18:\n",
    "    print(\"You're eligible to vote!\")\n",
    "else:\n",
    "    print(\"You're not eligible to vote!\")\n",
    "    "
   ]
  },
  {
   "cell_type": "code",
   "execution_count": 5,
   "id": "3dd6c790",
   "metadata": {},
   "outputs": [
    {
     "name": "stdout",
     "output_type": "stream",
     "text": [
      "Enter your age 12\n",
      "You're not eligible to vote!\n"
     ]
    }
   ],
   "source": [
    "age = int(input(\"Enter your age \"))\n",
    "if age>18:\n",
    "    print(\"You're eligible to vote!\")\n",
    "else:\n",
    "    print(\"You're not eligible to vote!\")\n",
    "    "
   ]
  },
  {
   "cell_type": "markdown",
   "id": "b462d2d5",
   "metadata": {},
   "source": [
    "### check the given number is positive or negative"
   ]
  },
  {
   "cell_type": "code",
   "execution_count": 2,
   "id": "25daf08a",
   "metadata": {},
   "outputs": [
    {
     "name": "stdout",
     "output_type": "stream",
     "text": [
      "Enter the number -32\n",
      "The number is negative!\n"
     ]
    }
   ],
   "source": [
    "\n",
    "num = int(input(\"Enter the number \"))\n",
    "if num<0:\n",
    "    print(\"The number is negative!\")\n",
    "else:\n",
    "    print(\"The number is positive!\")"
   ]
  },
  {
   "cell_type": "code",
   "execution_count": 3,
   "id": "f517a934",
   "metadata": {},
   "outputs": [
    {
     "name": "stdout",
     "output_type": "stream",
     "text": [
      "Enter the number 25\n",
      "The number is positive!\n"
     ]
    }
   ],
   "source": [
    "\n",
    "num = int(input(\"Enter the number \"))\n",
    "if num<0:\n",
    "    print(\"The number is negative!\")\n",
    "else:\n",
    "    print(\"The number is positive!\")\n",
    "    "
   ]
  },
  {
   "cell_type": "markdown",
   "id": "c82ea629",
   "metadata": {},
   "source": [
    "\n",
    "### Check the given number is even or odd if it's even check which is divisible by 4 or not"
   ]
  },
  {
   "cell_type": "code",
   "execution_count": 6,
   "id": "3857125e",
   "metadata": {},
   "outputs": [
    {
     "name": "stdout",
     "output_type": "stream",
     "text": [
      "Enter the number 5\n",
      "The number is odd\n"
     ]
    }
   ],
   "source": [
    "num1 = int(input(\"Enter the number \"))\n",
    "if num1 ==0:\n",
    "    print(\"The number is even\")\n",
    "elif num1%2==0:\n",
    "    if num1%4==0:\n",
    "        print(\"The number is even and divisible by 4\")\n",
    "    else:\n",
    "        print(\"The number is even and not divisible by 4\")\n",
    "else:\n",
    "    print(\"The number is odd\")"
   ]
  },
  {
   "cell_type": "code",
   "execution_count": 7,
   "id": "98756034",
   "metadata": {},
   "outputs": [
    {
     "name": "stdout",
     "output_type": "stream",
     "text": [
      "Enter the number 4\n",
      "The number is even and divisible by 4\n"
     ]
    }
   ],
   "source": [
    "num1 = int(input(\"Enter the number \"))\n",
    "if num1 ==0:\n",
    "    print(\"The number is even\")\n",
    "elif num1%2==0:\n",
    "    if num1%4==0:\n",
    "        print(\"The number is even and divisible by 4\")\n",
    "    else:\n",
    "        print(\"The number is even and not divisible by 4\")\n",
    "else:\n",
    "    print(\"The number is odd\")"
   ]
  },
  {
   "cell_type": "markdown",
   "id": "af72885f",
   "metadata": {},
   "source": [
    "\n",
    "### Write a program to print student grade based on percentage like Distinction,pass or fail"
   ]
  },
  {
   "cell_type": "code",
   "execution_count": 8,
   "id": "e0ea5539",
   "metadata": {},
   "outputs": [
    {
     "name": "stdout",
     "output_type": "stream",
     "text": [
      "Enter your percentage(%) 90\n",
      "Distinction\n"
     ]
    }
   ],
   "source": [
    "student_percentage = int(input(\"Enter your percentage(%) \"))\n",
    "if student_percentage >= 90 and student_percentage < 100:\n",
    "    print(\"Distinction\")\n",
    "elif student_percentage >= 50 and student_percentage < 90:\n",
    "    print(\"Pass\")\n",
    "elif student_percentage < 50 and student_percentage > 0:\n",
    "    print(\"Fail\")\n",
    "else:\n",
    "    print(\"Enter a valid percentage\")"
   ]
  },
  {
   "cell_type": "markdown",
   "id": "ee15204c",
   "metadata": {},
   "source": [
    "\n",
    "### Check the given year is Leap or not"
   ]
  },
  {
   "cell_type": "code",
   "execution_count": 9,
   "id": "9f931b34",
   "metadata": {},
   "outputs": [
    {
     "name": "stdout",
     "output_type": "stream",
     "text": [
      "Enter the year 2001\n",
      "The year isn't a leap year\n"
     ]
    }
   ],
   "source": [
    "year = int(input(\"Enter the year \"))\n",
    "if year%4 == 0 and year%100 != 0 or year%400 == 0:\n",
    "    print(\"The year is leap year!\")\n",
    "else:\n",
    "    print(\"The year isn't a leap year\")"
   ]
  },
  {
   "cell_type": "code",
   "execution_count": 10,
   "id": "ad89cb93",
   "metadata": {},
   "outputs": [
    {
     "name": "stdout",
     "output_type": "stream",
     "text": [
      "Enter the year 2020\n",
      "The year is leap year!\n"
     ]
    }
   ],
   "source": [
    "year = int(input(\"Enter the year \"))\n",
    "if year%4 == 0 and year%100 != 0 or year%400 == 0:\n",
    "    print(\"The year is leap year!\")\n",
    "else:\n",
    "    print(\"The year isn't a leap year\")"
   ]
  },
  {
   "cell_type": "code",
   "execution_count": null,
   "id": "2a577753",
   "metadata": {},
   "outputs": [],
   "source": []
  }
 ],
 "metadata": {
  "kernelspec": {
   "display_name": "Python 3",
   "language": "python",
   "name": "python3"
  },
  "language_info": {
   "codemirror_mode": {
    "name": "ipython",
    "version": 3
   },
   "file_extension": ".py",
   "mimetype": "text/x-python",
   "name": "python",
   "nbconvert_exporter": "python",
   "pygments_lexer": "ipython3",
   "version": "3.8.8"
  }
 },
 "nbformat": 4,
 "nbformat_minor": 5
}
