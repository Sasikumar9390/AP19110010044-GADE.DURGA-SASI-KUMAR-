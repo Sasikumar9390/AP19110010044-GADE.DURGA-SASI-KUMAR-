{
 "cells": [
  {
   "cell_type": "markdown",
   "id": "5121b6fd",
   "metadata": {},
   "source": [
    "### Task 7\n",
    "- Create a function for finding the leap years in the given range"
   ]
  },
  {
   "cell_type": "code",
   "execution_count": 2,
   "id": "7c044578",
   "metadata": {},
   "outputs": [
    {
     "name": "stdout",
     "output_type": "stream",
     "text": [
      "Enter the start range: 2005\n",
      "Enter the end range: 2020\n",
      "Between the range 2005 and 2020\n",
      "2008 is a leap year\n",
      "2012 is a leap year\n",
      "2016 is a leap year\n"
     ]
    }
   ],
   "source": [
    "def leap_year(year):\n",
    "    if (year%4 == 0 and year%100 != 0 or year%400 == 0):\n",
    "        return True\n",
    "    else:\n",
    "        return False\n",
    "start = int(input(\"Enter the start range: \"))\n",
    "end = int(input(\"Enter the end range: \"))\n",
    "print(\"Between the range\", start, \"and\", end)\n",
    "for i in range(start, end):\n",
    "    if leap_year(i) == True:\n",
    "        print(i,\"is a leap year\")"
   ]
  },
  {
   "cell_type": "markdown",
   "id": "9c972cf4",
   "metadata": {},
   "source": [
    "- Create a function for getting armstrong numbers within the given range "
   ]
  },
  {
   "cell_type": "code",
   "execution_count": 4,
   "id": "228f6bc5",
   "metadata": {},
   "outputs": [
    {
     "name": "stdout",
     "output_type": "stream",
     "text": [
      "Enter the start number 1\n",
      "Enter the final number 10000\n",
      "The armstrong numbers from 1 to 10000\n",
      "1\n",
      "2\n",
      "3\n",
      "4\n",
      "5\n",
      "6\n",
      "7\n",
      "8\n",
      "9\n",
      "153\n",
      "370\n",
      "371\n",
      "407\n",
      "1634\n",
      "8208\n",
      "9474\n"
     ]
    }
   ],
   "source": [
    "def armstrong(a, b):\n",
    "    for i in range(a, b+1):\n",
    "        num = i\n",
    "        result = 0\n",
    "        n = len(str(i))\n",
    "        while(i != 0):\n",
    "            digit = i % 10\n",
    "            result = result + digit ** n\n",
    "            i = i//10\n",
    "        if num == result:\n",
    "            print(num)\n",
    "initial = int(input(\"Enter the start number \"))\n",
    "final = int(input(\"Enter the final number \"))\n",
    "print(\"The armstrong numbers from\", initial, \"to\", final)\n",
    "armstrong(initial, final)"
   ]
  },
  {
   "cell_type": "markdown",
   "id": "51243574",
   "metadata": {},
   "source": [
    "- Create a function for getting the prime numbers within the range\n"
   ]
  },
  {
   "cell_type": "code",
   "execution_count": 7,
   "id": "021fdf3b",
   "metadata": {},
   "outputs": [
    {
     "name": "stdout",
     "output_type": "stream",
     "text": [
      "Enter the start number 1\n",
      "Enter the end number 50\n",
      "Prime numbers between 1 and 50\n",
      "1 is a prime number\n",
      "2 is a prime number\n",
      "3 is a prime number\n",
      "5 is a prime number\n",
      "7 is a prime number\n",
      "11 is a prime number\n",
      "13 is a prime number\n",
      "17 is a prime number\n",
      "19 is a prime number\n",
      "23 is a prime number\n",
      "29 is a prime number\n",
      "31 is a prime number\n",
      "37 is a prime number\n",
      "41 is a prime number\n",
      "43 is a prime number\n",
      "47 is a prime number\n"
     ]
    }
   ],
   "source": [
    "def prime(r1, r2):\n",
    "    for num in range(r1, r2+1):\n",
    "        for i in range(2, num):\n",
    "            if num%i == 0:\n",
    "                break\n",
    "        else:\n",
    "            print(num,\"is a prime number\")\n",
    "prime_start = int(input(\"Enter the start number \"))\n",
    "prime_end = int(input(\"Enter the end number \"))\n",
    "print(\"Prime numbers between\", prime_start, \"and\", prime_end)\n",
    "prime(prime_start,prime_end)"
   ]
  },
  {
   "cell_type": "markdown",
   "id": "ff5c4eca",
   "metadata": {},
   "source": [
    "- Create a function for finding the count of elements in a string"
   ]
  },
  {
   "cell_type": "code",
   "execution_count": 6,
   "id": "d2976ea8",
   "metadata": {},
   "outputs": [
    {
     "name": "stdout",
     "output_type": "stream",
     "text": [
      "Enter the string sasi\n",
      "The string is: sasi\n",
      "Count of elements in string is: 4\n"
     ]
    }
   ],
   "source": [
    "def count(string):\n",
    "    count_str = 0\n",
    "    for i in string:\n",
    "        count_str = count_str + 1\n",
    "    return count_str \n",
    "inp = input(\"Enter the string \")\n",
    "print(\"The string is:\", inp)\n",
    "print(\"Count of elements in string is:\",count(inp))"
   ]
  }
 ],
 "metadata": {
  "kernelspec": {
   "display_name": "Python 3",
   "language": "python",
   "name": "python3"
  },
  "language_info": {
   "codemirror_mode": {
    "name": "ipython",
    "version": 3
   },
   "file_extension": ".py",
   "mimetype": "text/x-python",
   "name": "python",
   "nbconvert_exporter": "python",
   "pygments_lexer": "ipython3",
   "version": "3.8.8"
  }
 },
 "nbformat": 4,
 "nbformat_minor": 5
}
