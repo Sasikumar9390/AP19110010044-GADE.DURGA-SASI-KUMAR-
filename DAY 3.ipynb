{
 "cells": [
  {
   "cell_type": "markdown",
   "id": "5dd9e5e2",
   "metadata": {},
   "source": [
    " ## TASK-3\n",
    " - TAKE LAST 3 VALUES OF ROLL NUMBER\n",
    "     - If value startswith \"01\" --> 'CSE Dept' \n",
    "     - elif value startswith \"11\" --> 'IT Dept'\n",
    "     - elif value startswith \"21\" --> \"ECE Dept\"\n",
    "     - else not an SRM student"
   ]
  },
  {
   "cell_type": "markdown",
   "id": "80fcfaac",
   "metadata": {},
   "source": [
    "- Take last 3 values of roll number"
   ]
  },
  {
   "cell_type": "code",
   "execution_count": 3,
   "id": "ec6e6dd4",
   "metadata": {},
   "outputs": [
    {
     "name": "stdout",
     "output_type": "stream",
     "text": [
      "Enter your roll number 6789\n",
      "Not a SRM student\n"
     ]
    }
   ],
   "source": [
    "\n",
    "roll_num = input(\"Enter your roll number \")\n",
    "if roll_num[-3:].startswith(\"01\"):\n",
    "    print(\"CSE Department\")\n",
    "elif roll_num[-3:].startswith(\"11\"):\n",
    "    print(\"IT Department\")\n",
    "elif roll_num[-3:].startswith(\"21\"):\n",
    "    print(\"ECE Department\")\n",
    "else:\n",
    "    print(\"Not a SRM student\")"
   ]
  },
  {
   "cell_type": "markdown",
   "id": "08064808",
   "metadata": {},
   "source": [
    "\n",
    "## CSE Department"
   ]
  },
  {
   "cell_type": "markdown",
   "id": "fda54d65",
   "metadata": {},
   "source": [
    "# roll_num = input(\"Enter your roll number \")\n",
    "if roll_num[-3:].startswith(\"01\"):\n",
    "    print(\"CSE Department\")\n",
    "elif roll_num[-3:].startswith(\"11\"):\n",
    "    print(\"IT Department\")\n",
    "elif roll_num[-3:].startswith(\"21\"):\n",
    "    print(\"ECE Department\")\n",
    "else:\n",
    "    print(\"Not a SRM student\")"
   ]
  },
  {
   "cell_type": "markdown",
   "id": "3fe356b0",
   "metadata": {},
   "source": [
    "## IT Department"
   ]
  },
  {
   "cell_type": "code",
   "execution_count": 7,
   "id": "0cfad9e7",
   "metadata": {},
   "outputs": [
    {
     "name": "stdout",
     "output_type": "stream",
     "text": [
      "Enter your roll number AP20110010117\n",
      "IT Department\n"
     ]
    }
   ],
   "source": [
    "roll_num = input(\"Enter your roll number \")\n",
    "if roll_num[-3:].startswith(\"01\"):\n",
    "    print(\"CSE Department\")\n",
    "elif roll_num[-3:].startswith(\"11\"):\n",
    "    print(\"IT Department\")\n",
    "elif roll_num[-3:].startswith(\"21\"):\n",
    "    print(\"ECE Department\")\n",
    "else:\n",
    "    print(\"Not a SRM student\")"
   ]
  },
  {
   "cell_type": "markdown",
   "id": "27d9ce9a",
   "metadata": {},
   "source": [
    "\n",
    "## ECE Department"
   ]
  },
  {
   "cell_type": "code",
   "execution_count": 8,
   "id": "090d3350",
   "metadata": {},
   "outputs": [
    {
     "name": "stdout",
     "output_type": "stream",
     "text": [
      "Enter your roll number AP20110010217\n",
      "ECE Department\n"
     ]
    }
   ],
   "source": [
    "roll_num = input(\"Enter your roll number \")\n",
    "if roll_num[-3:].startswith(\"01\"):\n",
    "    print(\"CSE Department\")\n",
    "elif roll_num[-3:].startswith(\"11\"):\n",
    "    print(\"IT Department\")\n",
    "elif roll_num[-3:].startswith(\"21\"):\n",
    "    print(\"ECE Department\")\n",
    "else:\n",
    "    print(\"Not a SRM student\")"
   ]
  },
  {
   "cell_type": "markdown",
   "id": "de143f46",
   "metadata": {},
   "source": [
    " ## Not SRM Student"
   ]
  },
  {
   "cell_type": "code",
   "execution_count": 9,
   "id": "ed2d949c",
   "metadata": {},
   "outputs": [
    {
     "name": "stdout",
     "output_type": "stream",
     "text": [
      "Enter your roll number AP20110010070\n",
      "Not a SRM student\n"
     ]
    }
   ],
   "source": [
    "roll_num = input(\"Enter your roll number \")\n",
    "if roll_num[-3:].startswith(\"01\"):\n",
    "    print(\"CSE Department\")\n",
    "elif roll_num[-3:].startswith(\"11\"):\n",
    "    print(\"IT Department\")\n",
    "elif roll_num[-3:].startswith(\"21\"):\n",
    "    print(\"ECE Department\")\n",
    "else:\n",
    "    print(\"Not a SRM student\")"
   ]
  }
 ],
 "metadata": {
  "kernelspec": {
   "display_name": "Python 3",
   "language": "python",
   "name": "python3"
  },
  "language_info": {
   "codemirror_mode": {
    "name": "ipython",
    "version": 3
   },
   "file_extension": ".py",
   "mimetype": "text/x-python",
   "name": "python",
   "nbconvert_exporter": "python",
   "pygments_lexer": "ipython3",
   "version": "3.8.8"
  }
 },
 "nbformat": 4,
 "nbformat_minor": 5
}
