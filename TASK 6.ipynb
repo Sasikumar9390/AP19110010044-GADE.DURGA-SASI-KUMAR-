{
 "cells": [
  {
   "cell_type": "markdown",
   "id": "74286662",
   "metadata": {},
   "source": [
    "### Task 6\n",
    "- Write a pattern to display 4 digit numbers from the list1 list1 = [5841, 987654321, 453267, 1234, 675, 8797]"
   ]
  },
  {
   "cell_type": "code",
   "execution_count": 1,
   "id": "0601481c",
   "metadata": {},
   "outputs": [
    {
     "name": "stdout",
     "output_type": "stream",
     "text": [
      "5841\n",
      "1234\n",
      "8797\n"
     ]
    }
   ],
   "source": [
    "import re\n",
    "list = ['5841', '987654321', '453267', '1234', '675', '8797']\n",
    "for i in list:\n",
    "    if re.findall('^[0-9]{4}$', i):\n",
    "        print(i)"
   ]
  },
  {
   "cell_type": "markdown",
   "id": "6bc1e2b3",
   "metadata": {},
   "source": [
    " - Validate a phone number using patterns. ph_list = [9876543210, 8123456789, 7890123456, 789654, 1234567890]"
   ]
  },
  {
   "cell_type": "code",
   "execution_count": 6,
   "id": "4ce7ebc0",
   "metadata": {},
   "outputs": [
    {
     "name": "stdout",
     "output_type": "stream",
     "text": [
      "9876543210\n",
      "8123456789\n",
      "7890123456\n"
     ]
    }
   ],
   "source": [
    "ph_list = ['9876543210', '8123456789', '7890123456', '789654', '1234567890']\n",
    "for i in ph_list:\n",
    "    if re.findall('[6-9]{1}[0-9]{9}$', i):\n",
    "        print(i)"
   ]
  },
  {
   "cell_type": "code",
   "execution_count": null,
   "id": "5f34155a",
   "metadata": {},
   "outputs": [],
   "source": []
  }
 ],
 "metadata": {
  "kernelspec": {
   "display_name": "Python 3",
   "language": "python",
   "name": "python3"
  },
  "language_info": {
   "codemirror_mode": {
    "name": "ipython",
    "version": 3
   },
   "file_extension": ".py",
   "mimetype": "text/x-python",
   "name": "python",
   "nbconvert_exporter": "python",
   "pygments_lexer": "ipython3",
   "version": "3.8.8"
  }
 },
 "nbformat": 4,
 "nbformat_minor": 5
}
