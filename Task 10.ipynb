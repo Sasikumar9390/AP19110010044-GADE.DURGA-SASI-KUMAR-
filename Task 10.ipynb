{
 "cells": [
  {
   "cell_type": "markdown",
   "id": "f8ee904f",
   "metadata": {},
   "source": [
    "### Task 10\n",
    "- Write a program for getting the last five line from the file"
   ]
  },
  {
   "cell_type": "code",
   "execution_count": 1,
   "id": "829825d5",
   "metadata": {},
   "outputs": [
    {
     "name": "stdout",
     "output_type": "stream",
     "text": [
      "Overwriting myfile.txt\n"
     ]
    }
   ],
   "source": [
    "%%writefile myfile.txt\n",
    "This is a File\n",
    "Second line in the File\n",
    "Third line in the File\n",
    "Fourth line in the File\n",
    "Fifth line in the File\n",
    "Sixth line in the File\n",
    "Seventh line in the file"
   ]
  },
  {
   "cell_type": "code",
   "execution_count": 2,
   "id": "0fbf8293",
   "metadata": {},
   "outputs": [
    {
     "name": "stdout",
     "output_type": "stream",
     "text": [
      "['Third line in the File\\n', 'Fourth line in the File\\n', 'Fifth line in the File\\n', 'Sixth line in the File\\n', 'Seventh line in the file\\n']\n"
     ]
    }
   ],
   "source": [
    "with open(\"myfile.txt\", \"r\") as f:\n",
    "    contents = f.readlines()\n",
    "    lines = contents[-5:]\n",
    "    print(lines)"
   ]
  },
  {
   "cell_type": "markdown",
   "id": "b2439a62",
   "metadata": {},
   "source": [
    "#### Create a function for appending the data into the file"
   ]
  },
  {
   "cell_type": "code",
   "execution_count": 3,
   "id": "f5c7390f",
   "metadata": {},
   "outputs": [],
   "source": [
    "with open(\"myfile.txt\", \"r\") as f:\n",
    "    contents = f.read()"
   ]
  },
  {
   "cell_type": "code",
   "execution_count": 4,
   "id": "b33ab2f1",
   "metadata": {},
   "outputs": [
    {
     "data": {
      "text/plain": [
       "'This is a File\\nSecond line in the File\\nThird line in the File\\nFourth line in the File\\nFifth line in the File\\nSixth line in the File\\nSeventh line in the file\\n'"
      ]
     },
     "execution_count": 4,
     "metadata": {},
     "output_type": "execute_result"
    }
   ],
   "source": [
    "contents"
   ]
  },
  {
   "cell_type": "code",
   "execution_count": 5,
   "id": "3b67d377",
   "metadata": {},
   "outputs": [
    {
     "name": "stdout",
     "output_type": "stream",
     "text": [
      "Enter the name of the file: myfile.txt\n",
      "Enter the data to append: Eighth line in the file\n"
     ]
    }
   ],
   "source": [
    "\n",
    "# Append function\n",
    "def data_append(file_name, string):\n",
    "    with open(file_name, \"a\") as f:\n",
    "        f.write(string)\n",
    "name_of_the_file = input(\"Enter the name of the file: \")\n",
    "data = input(\"Enter the data to append: \")\n",
    "data_append(name_of_the_file, data)"
   ]
  },
  {
   "cell_type": "code",
   "execution_count": 7,
   "id": "e1af8ea5",
   "metadata": {},
   "outputs": [],
   "source": [
    "with open(\"myfile.txt\", \"r\") as f:\n",
    "    contents = f.read()"
   ]
  },
  {
   "cell_type": "code",
   "execution_count": 8,
   "id": "1bcd0c27",
   "metadata": {},
   "outputs": [
    {
     "data": {
      "text/plain": [
       "'This is a File\\nSecond line in the File\\nThird line in the File\\nFourth line in the File\\nFifth line in the File\\nSixth line in the File\\nSeventh line in the file\\nEighth line in the file'"
      ]
     },
     "execution_count": 8,
     "metadata": {},
     "output_type": "execute_result"
    }
   ],
   "source": [
    "contents"
   ]
  },
  {
   "cell_type": "markdown",
   "id": "1c8623fe",
   "metadata": {},
   "source": [
    " - Create a program for updating a word in the file"
   ]
  },
  {
   "cell_type": "code",
   "execution_count": 10,
   "id": "82ddebd2",
   "metadata": {},
   "outputs": [
    {
     "name": "stdout",
     "output_type": "stream",
     "text": [
      "Overwriting file1.txt\n"
     ]
    }
   ],
   "source": [
    "\n",
    "%%writefile file1.txt\n",
    "This is a Program"
   ]
  },
  {
   "cell_type": "code",
   "execution_count": 11,
   "id": "54aecf08",
   "metadata": {},
   "outputs": [
    {
     "data": {
      "text/plain": [
       "'This is a Program\\n'"
      ]
     },
     "execution_count": 11,
     "metadata": {},
     "output_type": "execute_result"
    }
   ],
   "source": [
    "with open(\"file1.txt\", \"r\") as f:\n",
    "    contents = f.read()\n",
    "contents"
   ]
  },
  {
   "cell_type": "code",
   "execution_count": 37,
   "id": "ebfdb867",
   "metadata": {},
   "outputs": [],
   "source": [
    "import re"
   ]
  },
  {
   "cell_type": "code",
   "execution_count": 38,
   "id": "9b988f2c",
   "metadata": {},
   "outputs": [
    {
     "data": {
      "text/plain": [
       "'This is a Python Program\\n'"
      ]
     },
     "execution_count": 38,
     "metadata": {},
     "output_type": "execute_result"
    }
   ],
   "source": [
    "with open(\"file1.txt\", \"r+\") as f:\n",
    "    word = f.read()\n",
    "    word = re.sub('Program', 'Python Program',word) #Replacing 'Program' with 'Python Program'\n",
    "    f.seek(0)\n",
    "    f.write(word)\n",
    "    f.truncate()\n",
    "word"
   ]
  }
 ],
 "metadata": {
  "kernelspec": {
   "display_name": "Python 3",
   "language": "python",
   "name": "python3"
  },
  "language_info": {
   "codemirror_mode": {
    "name": "ipython",
    "version": 3
   },
   "file_extension": ".py",
   "mimetype": "text/x-python",
   "name": "python",
   "nbconvert_exporter": "python",
   "pygments_lexer": "ipython3",
   "version": "3.8.8"
  }
 },
 "nbformat": 4,
 "nbformat_minor": 5
}
